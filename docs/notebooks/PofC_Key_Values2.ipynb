{
 "cells": [
  {
   "cell_type": "markdown",
   "metadata": {},
   "source": [
    "# Key Values Proof of Concept"
   ]
  },
  {
   "cell_type": "code",
   "execution_count": 1,
   "metadata": {
    "scrolled": true
   },
   "outputs": [
    {
     "ename": "SyntaxError",
     "evalue": "invalid syntax (<ipython-input-1-7aafa4a1451e>, line 2)",
     "output_type": "error",
     "traceback": [
      "\u001b[0;36m  File \u001b[0;32m\"<ipython-input-1-7aafa4a1451e>\"\u001b[0;36m, line \u001b[0;32m2\u001b[0m\n\u001b[0;31m    pip install bids\u001b[0m\n\u001b[0m        ^\u001b[0m\n\u001b[0;31mSyntaxError\u001b[0m\u001b[0;31m:\u001b[0m invalid syntax\n"
     ]
    }
   ],
   "source": [
    "# Install bids\n",
    "pip install bids"
   ]
  },
  {
   "cell_type": "code",
   "execution_count": 4,
   "metadata": {},
   "outputs": [],
   "source": [
    "# Import modules\n",
    "from bids import BIDSLayout\n",
    "from bids.tests import get_test_data_path\n",
    "from bids.layout import parse_file_entities\n",
    "import os\n",
    "import glob\n",
    "import json"
   ]
  },
  {
   "cell_type": "code",
   "execution_count": 5,
   "metadata": {},
   "outputs": [],
   "source": [
    "root_dir = '/Users/krmurtha/Desktop/informatics/CuBIDS/'\n",
    "bids_dir = 'data/'"
   ]
  },
  {
   "cell_type": "code",
   "execution_count": 6,
   "metadata": {},
   "outputs": [
    {
     "name": "stdout",
     "output_type": "stream",
     "text": [
      "['/Users/krmurtha/Desktop/informatics/CuBIDS/data/DSDTI_fmap/sub-PNC/ses-pepolar/dwi', '/Users/krmurtha/Desktop/informatics/CuBIDS/data/DSDTI_fmap/sub-PNC/ses-pepolar/fmap', '/Users/krmurtha/Desktop/informatics/CuBIDS/data/DSDTI_fmap/sub-PNC/ses-pepolar/anat', '/Users/krmurtha/Desktop/informatics/CuBIDS/data/DSDTI_fmap/sub-PNC/ses-nofmap/dwi', '/Users/krmurtha/Desktop/informatics/CuBIDS/data/DSDTI_fmap/sub-PNC/ses-phdiff/dwi', '/Users/krmurtha/Desktop/informatics/CuBIDS/data/DSDTI_fmap/sub-PNC/ses-phdiff/fmap', '/Users/krmurtha/Desktop/informatics/CuBIDS/data/DSDTI_fmap/sub-PNC/ses-buds/dwi', '/Users/krmurtha/Desktop/informatics/CuBIDS/data/DSDTI_fmap/sub-PNC/ses-buds/fmap', '/Users/krmurtha/Desktop/informatics/CuBIDS/data/DSDTI_fmap/sub-PNC/ses-buds/anat', '/Users/krmurtha/Desktop/informatics/CuBIDS/data/DSDTI_fmap/sub-PNC/ses-phases/dwi', '/Users/krmurtha/Desktop/informatics/CuBIDS/data/DSDTI_fmap/sub-PNC/ses-phases/fmap', '/Users/krmurtha/Desktop/informatics/CuBIDS/data/sub-1832999514/ses-PNC2/fmap/sub-1832999514_ses-PNC2_magnitude2.nii.gz', '/Users/krmurtha/Desktop/informatics/CuBIDS/data/sub-1832999514/ses-PNC2/fmap/sub-1832999514_ses-PNC2_phase2.json', '/Users/krmurtha/Desktop/informatics/CuBIDS/data/sub-1832999514/ses-PNC2/fmap/sub-1832999514_ses-PNC2_magnitude2.json', '/Users/krmurtha/Desktop/informatics/CuBIDS/data/sub-1832999514/ses-PNC2/fmap/sub-1832999514_ses-PNC2_phase2.nii.gz', '/Users/krmurtha/Desktop/informatics/CuBIDS/data/sub-1832999514/ses-PNC2/fmap/sub-1832999514_ses-PNC2_magnitude1.nii.gz', '/Users/krmurtha/Desktop/informatics/CuBIDS/data/sub-1832999514/ses-PNC2/fmap/sub-1832999514_ses-PNC2_magnitude1.json', '/Users/krmurtha/Desktop/informatics/CuBIDS/data/sub-1832999514/ses-PNC2/fmap/sub-1832999514_ses-PNC2_phase1.json', '/Users/krmurtha/Desktop/informatics/CuBIDS/data/sub-1832999514/ses-PNC2/fmap/sub-1832999514_ses-PNC2_phase1.nii.gz', '/Users/krmurtha/Desktop/informatics/CuBIDS/data/sub-1832999514/ses-PNC2/anat/sub-1832999514_ses-PNC2_T1w.nii.gz', '/Users/krmurtha/Desktop/informatics/CuBIDS/data/sub-1832999514/ses-PNC2/anat/sub-1832999514_ses-PNC2_rec-refaced_T1w.json', '/Users/krmurtha/Desktop/informatics/CuBIDS/data/sub-1832999514/ses-PNC2/anat/sub-1832999514_ses-PNC2_rec-refaced_T1w.nii.gz', '/Users/krmurtha/Desktop/informatics/CuBIDS/data/sub-1832999514/ses-PNC2/anat/sub-1832999514_ses-PNC2_T1w.json', '/Users/krmurtha/Desktop/informatics/CuBIDS/data/sub-1832999514/ses-PNC2/func/sub-1832999514_ses-PNC2_task-idemo.nii.gz', '/Users/krmurtha/Desktop/informatics/CuBIDS/data/sub-1832999514/ses-PNC2/func/sub-1832999514_ses-PNC2_task-frac2back.nii.gz', '/Users/krmurtha/Desktop/informatics/CuBIDS/data/sub-1832999514/ses-PNC2/func/sub-1832999514_ses-PNC2_task-idemo.json', '/Users/krmurtha/Desktop/informatics/CuBIDS/data/sub-1832999514/ses-PNC2/func/sub-1832999514_ses-PNC2_task-rest_acq-singleband_bold.nii.gz', '/Users/krmurtha/Desktop/informatics/CuBIDS/data/sub-1832999514/ses-PNC2/func/sub-1832999514_ses-PNC2_task-frac2back.json', '/Users/krmurtha/Desktop/informatics/CuBIDS/data/sub-1832999514/ses-PNC2/func/sub-1832999514_ses-PNC2_task-rest_acq-singleband_bold.json', '/Users/krmurtha/Desktop/informatics/CuBIDS/data/sub-1832999514/ses-PNC1/dwi/sub-1832999514_ses-PNC1_run-02_dwi.bval', '/Users/krmurtha/Desktop/informatics/CuBIDS/data/sub-1832999514/ses-PNC1/dwi/sub-1832999514_ses-PNC1_run-01_dwi.json', '/Users/krmurtha/Desktop/informatics/CuBIDS/data/sub-1832999514/ses-PNC1/dwi/sub-1832999514_ses-PNC1_run-02_dwi.bvec', '/Users/krmurtha/Desktop/informatics/CuBIDS/data/sub-1832999514/ses-PNC1/dwi/sub-1832999514_ses-PNC1_run-01_dwi.nii.gz', '/Users/krmurtha/Desktop/informatics/CuBIDS/data/sub-1832999514/ses-PNC1/dwi/sub-1832999514_ses-PNC1_run-02_dwi.nii.gz', '/Users/krmurtha/Desktop/informatics/CuBIDS/data/sub-1832999514/ses-PNC1/dwi/sub-1832999514_ses-PNC1_run-02_dwi.json', '/Users/krmurtha/Desktop/informatics/CuBIDS/data/sub-1832999514/ses-PNC1/dwi/sub-1832999514_ses-PNC1_run-01_dwi.bval', '/Users/krmurtha/Desktop/informatics/CuBIDS/data/sub-1832999514/ses-PNC1/dwi/sub-1832999514_ses-PNC1_run-01_dwi.bvec', '/Users/krmurtha/Desktop/informatics/CuBIDS/data/sub-1832999514/ses-PNC1/func/sub-1832999514_ses-PNC1_task-rest_acq-singleband_task-rest_bold.nii.gz', '/Users/krmurtha/Desktop/informatics/CuBIDS/data/sub-1832999514/ses-PNC1/func/sub-1832999514_ses-PNC1_task-rest_acq-singleband_task-rest_bold.json']\n"
     ]
    }
   ],
   "source": [
    "# use glob to list all of the files recursively\n",
    "\n",
    "all_files=glob.glob(root_dir + bids_dir + '**/**/**/*')\n",
    "print(all_files)"
   ]
  },
  {
   "cell_type": "code",
   "execution_count": 7,
   "metadata": {},
   "outputs": [
    {
     "name": "stdout",
     "output_type": "stream",
     "text": [
      "{'subject': 'PNC', 'session': 'pepolar'}\n"
     ]
    },
    {
     "name": "stderr",
     "output_type": "stream",
     "text": [
      "/Users/krmurtha/anaconda3/envs/cubids/lib/python3.8/site-packages/bids/layout/models.py:148: FutureWarning: The 'extension' entity currently excludes the leading dot ('.'). As of version 0.14.0, it will include the leading dot. To suppress this warning and include the leading dot, use `bids.config.set_option('extension_initial_dot', True)`.\n",
      "  warnings.warn(\"The 'extension' entity currently excludes the leading dot ('.'). \"\n"
     ]
    }
   ],
   "source": [
    "# use pybids to extract BIDS entities from single subject\n",
    "\n",
    "path = all_files[0]\n",
    "dict1= parse_file_entities(path)\n",
    "print(dict1)"
   ]
  },
  {
   "cell_type": "code",
   "execution_count": 8,
   "metadata": {},
   "outputs": [
    {
     "name": "stdout",
     "output_type": "stream",
     "text": [
      "{'subject': '1832999514', 'session': 'PNC2', 'suffix': 'phase2', 'fmap': 'phase2', 'datatype': 'fmap', 'extension': 'nii.gz'}\n"
     ]
    }
   ],
   "source": [
    "# test another example\n",
    "\n",
    "dict2= parse_file_entities(all_files[14])\n",
    "print(dict2)"
   ]
  },
  {
   "cell_type": "code",
   "execution_count": 9,
   "metadata": {},
   "outputs": [
    {
     "name": "stdout",
     "output_type": "stream",
     "text": [
      "[{'subject': 'PNC', 'session': 'pepolar'}, {'subject': 'PNC', 'session': 'pepolar'}, {'subject': 'PNC', 'session': 'pepolar'}, {'subject': 'PNC', 'session': 'nofmap'}, {'subject': 'PNC', 'session': 'phdiff'}, {'subject': 'PNC', 'session': 'phdiff'}, {'subject': 'PNC', 'session': 'buds'}, {'subject': 'PNC', 'session': 'buds'}, {'subject': 'PNC', 'session': 'buds'}, {'subject': 'PNC', 'session': 'phases'}, {'subject': 'PNC', 'session': 'phases'}, {'subject': '1832999514', 'session': 'PNC2', 'suffix': 'magnitude2', 'fmap': 'magnitude2', 'datatype': 'fmap', 'extension': 'nii.gz'}, {'subject': '1832999514', 'session': 'PNC2', 'suffix': 'phase2', 'datatype': 'fmap', 'extension': 'json'}, {'subject': '1832999514', 'session': 'PNC2', 'suffix': 'magnitude2', 'datatype': 'fmap', 'extension': 'json'}, {'subject': '1832999514', 'session': 'PNC2', 'suffix': 'phase2', 'fmap': 'phase2', 'datatype': 'fmap', 'extension': 'nii.gz'}, {'subject': '1832999514', 'session': 'PNC2', 'suffix': 'magnitude1', 'fmap': 'magnitude1', 'datatype': 'fmap', 'extension': 'nii.gz'}, {'subject': '1832999514', 'session': 'PNC2', 'suffix': 'magnitude1', 'datatype': 'fmap', 'extension': 'json'}, {'subject': '1832999514', 'session': 'PNC2', 'suffix': 'phase1', 'datatype': 'fmap', 'extension': 'json'}, {'subject': '1832999514', 'session': 'PNC2', 'suffix': 'phase1', 'fmap': 'phase1', 'datatype': 'fmap', 'extension': 'nii.gz'}, {'subject': '1832999514', 'session': 'PNC2', 'suffix': 'T1w', 'datatype': 'anat', 'extension': 'nii.gz'}, {'subject': '1832999514', 'session': 'PNC2', 'reconstruction': 'refaced', 'suffix': 'T1w', 'datatype': 'anat', 'extension': 'json'}, {'subject': '1832999514', 'session': 'PNC2', 'reconstruction': 'refaced', 'suffix': 'T1w', 'datatype': 'anat', 'extension': 'nii.gz'}, {'subject': '1832999514', 'session': 'PNC2', 'suffix': 'T1w', 'datatype': 'anat', 'extension': 'json'}, {'subject': '1832999514', 'session': 'PNC2', 'task': 'idemo', 'suffix': 'idemo', 'datatype': 'func', 'extension': 'nii.gz'}, {'subject': '1832999514', 'session': 'PNC2', 'task': 'frac2back', 'suffix': 'frac2back', 'datatype': 'func', 'extension': 'nii.gz'}, {'subject': '1832999514', 'session': 'PNC2', 'task': 'idemo', 'suffix': 'idemo', 'datatype': 'func', 'extension': 'json'}, {'subject': '1832999514', 'session': 'PNC2', 'task': 'rest', 'acquisition': 'singleband', 'suffix': 'bold', 'datatype': 'func', 'extension': 'nii.gz'}, {'subject': '1832999514', 'session': 'PNC2', 'task': 'frac2back', 'suffix': 'frac2back', 'datatype': 'func', 'extension': 'json'}, {'subject': '1832999514', 'session': 'PNC2', 'task': 'rest', 'acquisition': 'singleband', 'suffix': 'bold', 'datatype': 'func', 'extension': 'json'}, {'subject': '1832999514', 'session': 'PNC1', 'run': 2, 'suffix': 'dwi', 'datatype': 'dwi', 'extension': 'bval'}, {'subject': '1832999514', 'session': 'PNC1', 'run': 1, 'suffix': 'dwi', 'datatype': 'dwi', 'extension': 'json'}, {'subject': '1832999514', 'session': 'PNC1', 'run': 2, 'suffix': 'dwi', 'datatype': 'dwi', 'extension': 'bvec'}, {'subject': '1832999514', 'session': 'PNC1', 'run': 1, 'suffix': 'dwi', 'datatype': 'dwi', 'extension': 'nii.gz'}, {'subject': '1832999514', 'session': 'PNC1', 'run': 2, 'suffix': 'dwi', 'datatype': 'dwi', 'extension': 'nii.gz'}, {'subject': '1832999514', 'session': 'PNC1', 'run': 2, 'suffix': 'dwi', 'datatype': 'dwi', 'extension': 'json'}, {'subject': '1832999514', 'session': 'PNC1', 'run': 1, 'suffix': 'dwi', 'datatype': 'dwi', 'extension': 'bval'}, {'subject': '1832999514', 'session': 'PNC1', 'run': 1, 'suffix': 'dwi', 'datatype': 'dwi', 'extension': 'bvec'}, {'subject': '1832999514', 'session': 'PNC1', 'task': 'rest', 'acquisition': 'singleband', 'suffix': 'bold', 'datatype': 'func', 'extension': 'nii.gz'}, {'subject': '1832999514', 'session': 'PNC1', 'task': 'rest', 'acquisition': 'singleband', 'suffix': 'bold', 'datatype': 'func', 'extension': 'json'}]\n"
     ]
    }
   ],
   "source": [
    "entities = []\n",
    "#initialize list\n",
    "\n",
    "for file in all_files:\n",
    "#for each file in the list, parse the information into a dictionary and add it to the list we just initialized\n",
    "    result = parse_file_entities(file)\n",
    "\n",
    "    entities.append(result)\n",
    "    #entities.add(string_result)\n",
    "print(entities)"
   ]
  },
  {
   "cell_type": "code",
   "execution_count": 10,
   "metadata": {},
   "outputs": [
    {
     "name": "stdout",
     "output_type": "stream",
     "text": [
      "{'subject': ['PNC', 'PNC', 'PNC', 'PNC', 'PNC', 'PNC', 'PNC', 'PNC', 'PNC', 'PNC', 'PNC', '1832999514', '1832999514', '1832999514', '1832999514', '1832999514', '1832999514', '1832999514', '1832999514', '1832999514', '1832999514', '1832999514', '1832999514', '1832999514', '1832999514', '1832999514', '1832999514', '1832999514', '1832999514', '1832999514', '1832999514', '1832999514', '1832999514', '1832999514', '1832999514', '1832999514', '1832999514', '1832999514', '1832999514'], 'session': ['pepolar', 'pepolar', 'pepolar', 'nofmap', 'phdiff', 'phdiff', 'buds', 'buds', 'buds', 'phases', 'phases', 'PNC2', 'PNC2', 'PNC2', 'PNC2', 'PNC2', 'PNC2', 'PNC2', 'PNC2', 'PNC2', 'PNC2', 'PNC2', 'PNC2', 'PNC2', 'PNC2', 'PNC2', 'PNC2', 'PNC2', 'PNC2', 'PNC1', 'PNC1', 'PNC1', 'PNC1', 'PNC1', 'PNC1', 'PNC1', 'PNC1', 'PNC1', 'PNC1'], 'suffix': ['magnitude2', 'phase2', 'magnitude2', 'phase2', 'magnitude1', 'magnitude1', 'phase1', 'phase1', 'T1w', 'T1w', 'T1w', 'T1w', 'idemo', 'frac2back', 'idemo', 'bold', 'frac2back', 'bold', 'dwi', 'dwi', 'dwi', 'dwi', 'dwi', 'dwi', 'dwi', 'dwi', 'bold', 'bold'], 'fmap': ['magnitude2', 'phase2', 'magnitude1', 'phase1'], 'datatype': ['fmap', 'fmap', 'fmap', 'fmap', 'fmap', 'fmap', 'fmap', 'fmap', 'anat', 'anat', 'anat', 'anat', 'func', 'func', 'func', 'func', 'func', 'func', 'dwi', 'dwi', 'dwi', 'dwi', 'dwi', 'dwi', 'dwi', 'dwi', 'func', 'func'], 'extension': ['nii.gz', 'json', 'json', 'nii.gz', 'nii.gz', 'json', 'json', 'nii.gz', 'nii.gz', 'json', 'nii.gz', 'json', 'nii.gz', 'nii.gz', 'json', 'nii.gz', 'json', 'json', 'bval', 'json', 'bvec', 'nii.gz', 'nii.gz', 'json', 'bval', 'bvec', 'nii.gz', 'json'], 'reconstruction': ['refaced', 'refaced'], 'task': ['idemo', 'frac2back', 'idemo', 'rest', 'frac2back', 'rest', 'rest', 'rest'], 'acquisition': ['singleband', 'singleband', 'singleband', 'singleband'], 'run': [2, 1, 2, 1, 2, 2, 1, 1]}\n"
     ]
    }
   ],
   "source": [
    "\n",
    "# loop through files to create a bigger dictionary of discrete keys, adding each value to a list\n",
    "dictionary = {}\n",
    "# initialize a new dictionary\n",
    "for e in entities:\n",
    "# for each dictionary in the list we created above\n",
    "    for k,v in e.items():\n",
    "    #for each set of key-value pairs in each dictionary\n",
    "        #print(k,v)\n",
    "        if k not in dictionary.keys():\n",
    "        #if the key is not in the larger dictionary keys, set the value as value, but in a list\n",
    "            dictionary[k]=[v]\n",
    "        else:\n",
    "        #if the key is in the dictionary, add the new value to the existing value list\n",
    "            dictionary[k].append(v)\n",
    "\n",
    "\n",
    "print(dictionary)"
   ]
  },
  {
   "cell_type": "code",
   "execution_count": 11,
   "metadata": {
    "scrolled": false
   },
   "outputs": [
    {
     "name": "stdout",
     "output_type": "stream",
     "text": [
      "[{'PNC': 11, '1832999514': 28}, {'pepolar': 3, 'nofmap': 1, 'phdiff': 2, 'buds': 3, 'phases': 2, 'PNC2': 18, 'PNC1': 10}, {'magnitude2': 2, 'phase2': 2, 'magnitude1': 2, 'phase1': 2, 'T1w': 4, 'idemo': 2, 'frac2back': 2, 'bold': 4, 'dwi': 8}, {'magnitude2': 1, 'phase2': 1, 'magnitude1': 1, 'phase1': 1}, {'fmap': 8, 'anat': 4, 'func': 8, 'dwi': 8}, {'nii.gz': 12, 'json': 12, 'bval': 2, 'bvec': 2}, {'refaced': 2}, {'idemo': 2, 'frac2back': 2, 'rest': 4}, {'singleband': 4}, {2: 4, 1: 4}]\n"
     ]
    }
   ],
   "source": [
    "#create one dictionary value per key in original dictionary\n",
    "# loop through dictionary values and create dictionaries for instances of each list\n",
    "l_dicts = []\n",
    "for key in dictionary.keys():\n",
    "# for each list that is the value of the big dictionary:\n",
    "    #print (key)\n",
    "    counts = {}  #initialize a new dictionary for # of instances\n",
    "    l_labels = dictionary[key]\n",
    "    #print(l_labels)\n",
    "    for item in l_labels:\n",
    "    #for each item in those lists\n",
    "        if item not in counts.keys():\n",
    "        #if the item is not in the new dictionary, set it to 1\n",
    "            counts[item]= 1\n",
    "        else:\n",
    "        #if it already exists, add 1\n",
    "            counts[item]+= 1\n",
    "    l_dicts.append(counts)\n",
    "#list of dictionaries where KEYS: BIDS entities values and VALUES: instances of that key\n",
    "print(l_dicts)\n",
    "\n"
   ]
  },
  {
   "cell_type": "code",
   "execution_count": 13,
   "metadata": {},
   "outputs": [
    {
     "name": "stdout",
     "output_type": "stream",
     "text": [
      "{'subject': {'PNC': 11, '1832999514': 28}, 'session': {'pepolar': 3, 'nofmap': 1, 'phdiff': 2, 'buds': 3, 'phases': 2, 'PNC2': 18, 'PNC1': 10}, 'suffix': {'magnitude2': 2, 'phase2': 2, 'magnitude1': 2, 'phase1': 2, 'T1w': 4, 'idemo': 2, 'frac2back': 2, 'bold': 4, 'dwi': 8}, 'fmap': {'magnitude2': 1, 'phase2': 1, 'magnitude1': 1, 'phase1': 1}, 'datatype': {'fmap': 8, 'anat': 4, 'func': 8, 'dwi': 8}, 'extension': {'nii.gz': 12, 'json': 12, 'bval': 2, 'bvec': 2}, 'reconstruction': {'refaced': 2}, 'task': {'idemo': 2, 'frac2back': 2, 'rest': 4}, 'acquisition': {'singleband': 4}, 'run': {2: 4, 1: 4}}\n"
     ]
    }
   ],
   "source": [
    "#make a new dictionary with KEYS: BIDS entities (ie: subject, session, etc) and VALUES: dictionaries of ID's and instances\n",
    "\n",
    "new_dictionary = {}\n",
    "counter = 0\n",
    "for key in dictionary.keys():\n",
    "    #assign values from l_dicts to each key\n",
    "    new_dictionary[key] = l_dicts[counter]\n",
    "    counter += 1\n",
    "\n",
    "print(new_dictionary)\n"
   ]
  },
  {
   "cell_type": "code",
   "execution_count": 15,
   "metadata": {},
   "outputs": [],
   "source": [
    "#initialize new list for tuples\n",
    "l_tups= []\n",
    "for key in new_dictionary:\n",
    "    #list out all keys\n",
    "    e1 = key\n",
    "    #print(e1)\n",
    "    for s_key in new_dictionary[key]:\n",
    "        #list out all\n",
    "        e2 = s_key\n",
    "        #print(e2)\n",
    "        e3 = new_dictionary[key][s_key]\n",
    "        #print(e3)\n",
    "        l_tups.append((e1,e2,e3))"
   ]
  },
  {
   "cell_type": "code",
   "execution_count": 17,
   "metadata": {},
   "outputs": [],
   "source": [
    "import pandas as pd"
   ]
  },
  {
   "cell_type": "code",
   "execution_count": 18,
   "metadata": {},
   "outputs": [
    {
     "name": "stdout",
     "output_type": "stream",
     "text": [
      "               key         val  count\n",
      "0          subject         PNC     11\n",
      "1          subject  1832999514     28\n",
      "2          session     pepolar      3\n",
      "3          session      nofmap      1\n",
      "4          session      phdiff      2\n",
      "5          session        buds      3\n",
      "6          session      phases      2\n",
      "7          session        PNC2     18\n",
      "8          session        PNC1     10\n",
      "9           suffix  magnitude2      2\n",
      "10          suffix      phase2      2\n",
      "11          suffix  magnitude1      2\n",
      "12          suffix      phase1      2\n",
      "13          suffix         T1w      4\n",
      "14          suffix       idemo      2\n",
      "15          suffix   frac2back      2\n",
      "16          suffix        bold      4\n",
      "17          suffix         dwi      8\n",
      "18            fmap  magnitude2      1\n",
      "19            fmap      phase2      1\n",
      "20            fmap  magnitude1      1\n",
      "21            fmap      phase1      1\n",
      "22        datatype        fmap      8\n",
      "23        datatype        anat      4\n",
      "24        datatype        func      8\n",
      "25        datatype         dwi      8\n",
      "26       extension      nii.gz     12\n",
      "27       extension        json     12\n",
      "28       extension        bval      2\n",
      "29       extension        bvec      2\n",
      "30  reconstruction     refaced      2\n",
      "31            task       idemo      2\n",
      "32            task   frac2back      2\n",
      "33            task        rest      4\n",
      "34     acquisition  singleband      4\n",
      "35             run           2      4\n",
      "36             run           1      4\n"
     ]
    }
   ],
   "source": [
    "df = pd.DataFrame(l_tups, columns = ['key', 'val', 'count'])\n",
    "print(df)"
   ]
  },
  {
   "cell_type": "code",
   "execution_count": null,
   "metadata": {},
   "outputs": [],
   "source": []
  }
 ],
 "metadata": {
  "kernelspec": {
   "display_name": "Python 3",
   "language": "python",
   "name": "python3"
  },
  "language_info": {
   "codemirror_mode": {
    "name": "ipython",
    "version": 3
   },
   "file_extension": ".py",
   "mimetype": "text/x-python",
   "name": "python",
   "nbconvert_exporter": "python",
   "pygments_lexer": "ipython3",
   "version": "3.8.5"
  }
 },
 "nbformat": 4,
 "nbformat_minor": 4
}
