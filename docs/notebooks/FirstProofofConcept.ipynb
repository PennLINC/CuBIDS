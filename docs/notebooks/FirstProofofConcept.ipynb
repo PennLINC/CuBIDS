{
 "cells": [
  {
   "cell_type": "markdown",
   "metadata": {},
   "source": [
    "# Proof of Concept\n",
    "\n",
    "In this notebook we will test out some proofs of concept for our package.\n",
    "\n",
    "First step: going through a directory to read the files in it"
   ]
  },
  {
   "cell_type": "code",
   "execution_count": 1,
   "metadata": {},
   "outputs": [],
   "source": [
    "import glob\n",
    "\n",
    "root_dir = '/Users/ttapera/BBL/Projects/CuBIDS/'\n",
    "\n",
    "bids_dir = 'data/'"
   ]
  },
  {
   "cell_type": "code",
   "execution_count": 2,
   "metadata": {},
   "outputs": [
    {
     "data": {
      "text/plain": [
       "'/Users/ttapera/BBL/Projects/CuBIDS/data/'"
      ]
     },
     "execution_count": 2,
     "metadata": {},
     "output_type": "execute_result"
    }
   ],
   "source": [
    "root_dir + bids_dir"
   ]
  },
  {
   "cell_type": "code",
   "execution_count": 6,
   "metadata": {},
   "outputs": [
    {
     "data": {
      "text/plain": [
       "['/Users/ttapera/BBL/Projects/CuBIDS/data/sub-1832999514/ses-PNC2/fmap/sub-1832999514_ses-PNC2_magnitude2.nii.gz',\n",
       " '/Users/ttapera/BBL/Projects/CuBIDS/data/sub-1832999514/ses-PNC2/fmap/sub-1832999514_ses-PNC2_phase2.json',\n",
       " '/Users/ttapera/BBL/Projects/CuBIDS/data/sub-1832999514/ses-PNC2/fmap/sub-1832999514_ses-PNC2_magnitude2.json',\n",
       " '/Users/ttapera/BBL/Projects/CuBIDS/data/sub-1832999514/ses-PNC2/fmap/sub-1832999514_ses-PNC2_phase2.nii.gz',\n",
       " '/Users/ttapera/BBL/Projects/CuBIDS/data/sub-1832999514/ses-PNC2/fmap/sub-1832999514_ses-PNC2_magnitude1.nii.gz',\n",
       " '/Users/ttapera/BBL/Projects/CuBIDS/data/sub-1832999514/ses-PNC2/fmap/sub-1832999514_ses-PNC2_magnitude1.json',\n",
       " '/Users/ttapera/BBL/Projects/CuBIDS/data/sub-1832999514/ses-PNC2/fmap/sub-1832999514_ses-PNC2_phase1.json',\n",
       " '/Users/ttapera/BBL/Projects/CuBIDS/data/sub-1832999514/ses-PNC2/fmap/sub-1832999514_ses-PNC2_phase1.nii.gz',\n",
       " '/Users/ttapera/BBL/Projects/CuBIDS/data/sub-1832999514/ses-PNC2/anat/sub-1832999514_ses-PNC2_T1w.nii.gz',\n",
       " '/Users/ttapera/BBL/Projects/CuBIDS/data/sub-1832999514/ses-PNC2/anat/sub-1832999514_ses-PNC2_rec-refaced_T1w.json',\n",
       " '/Users/ttapera/BBL/Projects/CuBIDS/data/sub-1832999514/ses-PNC2/anat/sub-1832999514_ses-PNC2_rec-refaced_T1w.nii.gz',\n",
       " '/Users/ttapera/BBL/Projects/CuBIDS/data/sub-1832999514/ses-PNC2/anat/sub-1832999514_ses-PNC2_T1w.json',\n",
       " '/Users/ttapera/BBL/Projects/CuBIDS/data/sub-1832999514/ses-PNC2/func/sub-1832999514_ses-PNC2_task-idemo.nii.gz',\n",
       " '/Users/ttapera/BBL/Projects/CuBIDS/data/sub-1832999514/ses-PNC2/func/sub-1832999514_ses-PNC2_task-frac2back.nii.gz',\n",
       " '/Users/ttapera/BBL/Projects/CuBIDS/data/sub-1832999514/ses-PNC2/func/sub-1832999514_ses-PNC2_task-idemo.json',\n",
       " '/Users/ttapera/BBL/Projects/CuBIDS/data/sub-1832999514/ses-PNC2/func/sub-1832999514_ses-PNC2_task-rest_acq-singleband_bold.nii.gz',\n",
       " '/Users/ttapera/BBL/Projects/CuBIDS/data/sub-1832999514/ses-PNC2/func/sub-1832999514_ses-PNC2_task-frac2back.json',\n",
       " '/Users/ttapera/BBL/Projects/CuBIDS/data/sub-1832999514/ses-PNC2/func/sub-1832999514_ses-PNC2_task-rest_acq-singleband_bold.json',\n",
       " '/Users/ttapera/BBL/Projects/CuBIDS/data/sub-1832999514/ses-PNC1/dwi/sub-1832999514_ses-PNC1_run-02_dwi.bval',\n",
       " '/Users/ttapera/BBL/Projects/CuBIDS/data/sub-1832999514/ses-PNC1/dwi/sub-1832999514_ses-PNC1_run-01_dwi.json',\n",
       " '/Users/ttapera/BBL/Projects/CuBIDS/data/sub-1832999514/ses-PNC1/dwi/sub-1832999514_ses-PNC1_run-02_dwi.bvec',\n",
       " '/Users/ttapera/BBL/Projects/CuBIDS/data/sub-1832999514/ses-PNC1/dwi/sub-1832999514_ses-PNC1_run-01_dwi.nii.gz',\n",
       " '/Users/ttapera/BBL/Projects/CuBIDS/data/sub-1832999514/ses-PNC1/dwi/sub-1832999514_ses-PNC1_run-02_dwi.nii.gz',\n",
       " '/Users/ttapera/BBL/Projects/CuBIDS/data/sub-1832999514/ses-PNC1/dwi/sub-1832999514_ses-PNC1_run-02_dwi.json',\n",
       " '/Users/ttapera/BBL/Projects/CuBIDS/data/sub-1832999514/ses-PNC1/dwi/sub-1832999514_ses-PNC1_run-01_dwi.bval',\n",
       " '/Users/ttapera/BBL/Projects/CuBIDS/data/sub-1832999514/ses-PNC1/dwi/sub-1832999514_ses-PNC1_run-01_dwi.bvec',\n",
       " '/Users/ttapera/BBL/Projects/CuBIDS/data/sub-1832999514/ses-PNC1/func/sub-1832999514_ses-PNC1_task-rest_acq-singleband_task-rest_bold.nii.gz',\n",
       " '/Users/ttapera/BBL/Projects/CuBIDS/data/sub-1832999514/ses-PNC1/func/sub-1832999514_ses-PNC1_task-rest_acq-singleband_task-rest_bold.json']"
      ]
     },
     "execution_count": 6,
     "metadata": {},
     "output_type": "execute_result"
    }
   ],
   "source": [
    "# use glob to list all of the files recursively\n",
    "\n",
    "all_files = glob.glob(root_dir + bids_dir + '**/**/**/*')"
   ]
  },
  {
   "cell_type": "markdown",
   "metadata": {},
   "source": [
    "This is how we use glob to list all of the files"
   ]
  },
  {
   "cell_type": "code",
   "execution_count": null,
   "metadata": {},
   "outputs": [],
   "source": []
  }
 ],
 "metadata": {
  "kernelspec": {
   "display_name": "Python 3",
   "language": "python",
   "name": "python3"
  },
  "language_info": {
   "codemirror_mode": {
    "name": "ipython",
    "version": 3
   },
   "file_extension": ".py",
   "mimetype": "text/x-python",
   "name": "python",
   "nbconvert_exporter": "python",
   "pygments_lexer": "ipython3",
   "version": "3.8.5"
  }
 },
 "nbformat": 4,
 "nbformat_minor": 4
}
