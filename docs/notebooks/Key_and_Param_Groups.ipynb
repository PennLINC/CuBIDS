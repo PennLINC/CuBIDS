{
 "cells": [
  {
   "cell_type": "markdown",
   "metadata": {},
   "source": [
    "# Key and Param Groups"
   ]
  },
  {
   "cell_type": "code",
   "execution_count": 1,
   "metadata": {},
   "outputs": [],
   "source": [
    "#!/usr/bin/env python\n",
    "\n",
    "\"\"\"Tests for `cubids` package.\"\"\"\n",
    "import sys\n",
    "import time\n",
    "from pathlib import Path\n",
    "import csv\n",
    "import pandas as pd\n",
    "import numpy as np\n",
    "#sys.path.append(\"..\")\n",
    "import os\n",
    "#import pytest\n",
    "\n",
    "from pkg_resources import resource_filename as pkgrf\n",
    "from cubids import CuBIDS\n",
    "#import shutil\n",
    "#import cubids\n",
    "#import tempfile\n",
    "#import os.path as op\n",
    "#from copy import deepcopy\n",
    "#import base64\n",
    "#from glob import glob\n",
    "\n",
    "TEST_DATA = pkgrf(\"cubids\", \"testdata\")\n",
    "\n",
    "#data_root = Path(\".\") / \"testdata\" / \"complete\"\n",
    "\n",
    "data_root2 = \"/Users/scovitz/CuBIDS/cubids/Testdata/complete/\"\n"
   ]
  },
  {
   "cell_type": "code",
   "execution_count": 2,
   "metadata": {},
   "outputs": [
    {
     "name": "stdout",
     "output_type": "stream",
     "text": [
      "mv /Users/scovitz/CuBIDS/cubids/Testdata/complete/sub-01/ses-phdiff/fmap/sub-01_ses-phdiff_acq-v4_magnitude1.nii.gz /Users/scovitz/CuBIDS/cubids/Testdata/complete/sub-01/ses-phdiff/fmap/sub-01_ses-phdiff_acq-v5_magnitude1.nii.gz ; mv /Users/scovitz/CuBIDS/cubids/Testdata/complete/sub-01/ses-phdiff/fmap/sub-01_ses-phdiff_acq-v4_magnitude1.json /Users/scovitz/CuBIDS/cubids/Testdata/complete/sub-01/ses-phdiff/fmap/sub-01_ses-phdiff_acq-v5_magnitude1.json ; mv /Users/scovitz/CuBIDS/cubids/Testdata/complete/sub-02/ses-phdiff/fmap/sub-02_ses-phdiff_acq-v4_magnitude1.nii.gz /Users/scovitz/CuBIDS/cubids/Testdata/complete/sub-02/ses-phdiff/fmap/sub-02_ses-phdiff_acq-v5_magnitude1.nii.gz ; mv /Users/scovitz/CuBIDS/cubids/Testdata/complete/sub-02/ses-phdiff/fmap/sub-02_ses-phdiff_acq-v4_magnitude1.json /Users/scovitz/CuBIDS/cubids/Testdata/complete/sub-02/ses-phdiff/fmap/sub-02_ses-phdiff_acq-v5_magnitude1.json ; mv /Users/scovitz/CuBIDS/cubids/Testdata/complete/sub-03/ses-phdiff/fmap/sub-03_ses-phdiff_acq-v4_magnitude1.nii.gz /Users/scovitz/CuBIDS/cubids/Testdata/complete/sub-03/ses-phdiff/fmap/sub-03_ses-phdiff_acq-v5_magnitude1.nii.gz ; mv /Users/scovitz/CuBIDS/cubids/Testdata/complete/sub-03/ses-phdiff/fmap/sub-03_ses-phdiff_acq-v4_magnitude1.json /Users/scovitz/CuBIDS/cubids/Testdata/complete/sub-03/ses-phdiff/fmap/sub-03_ses-phdiff_acq-v5_magnitude1.json\n"
     ]
    }
   ],
   "source": [
    "###############################\n",
    "# TESTING change_key_groups!!!!\n",
    "###############################\n",
    "\n",
    "\n",
    "bod = CuBIDS(data_root2)\n",
    "\n",
    "out = bod.change_key_groups('/Users/scovitz/CuBIDS/notebooks/NewTests', '/Users/scovitz/CuBIDS/notebooks/newtsvs')\n",
    "\n",
    "\n",
    "print(out)\n"
   ]
  },
  {
   "cell_type": "code",
   "execution_count": 3,
   "metadata": {},
   "outputs": [
    {
     "data": {
      "text/plain": [
       "str"
      ]
     },
     "execution_count": 3,
     "metadata": {},
     "output_type": "execute_result"
    }
   ],
   "source": [
    "type(out)"
   ]
  },
  {
   "cell_type": "code",
   "execution_count": null,
   "metadata": {},
   "outputs": [],
   "source": [
    "\n",
    "# UNDOING RENAMING OF FILES\n",
    "\n",
    "files_and_dirs = Path(\"/Users/scovitz/CuBIDS/cubids/testdata/complete/\").rglob('*')\n",
    "for path in files_and_dirs:\n",
    "    old_name = path.stem\n",
    "    old_ext = path.suffix\n",
    "    directory = path.parent\n",
    "    new_name = old_name.replace(\"T2w\", \"T1w\") + old_ext\n",
    "    path.rename(Path(directory, new_name))\n",
    "\n"
   ]
  },
  {
   "cell_type": "code",
   "execution_count": null,
   "metadata": {},
   "outputs": [],
   "source": []
  },
  {
   "cell_type": "code",
   "execution_count": null,
   "metadata": {},
   "outputs": [],
   "source": [
    "\n",
    "# generating tsvs\n",
    "\n",
    "bod = CuBIDS(data_root2)\n",
    "out = bod.get_tsvs('/Users/scovitz/CuBIDS/notebooks/NewTests')\n",
    "out"
   ]
  },
  {
   "cell_type": "code",
   "execution_count": null,
   "metadata": {},
   "outputs": [],
   "source": [
    "#!find testdata"
   ]
  },
  {
   "cell_type": "code",
   "execution_count": null,
   "metadata": {
    "scrolled": true
   },
   "outputs": [],
   "source": [
    "bod = CuBIDS(data_root2)\n",
    "key_groups = bod.get_key_groups()\n",
    "print(key_groups)"
   ]
  },
  {
   "cell_type": "code",
   "execution_count": null,
   "metadata": {},
   "outputs": [],
   "source": [
    "files = bod.get_filenames('datatype-func_run-2_suffix-bold_task-rest')\n",
    "files\n",
    "#print(files)\n",
    "print(len(files))"
   ]
  },
  {
   "cell_type": "code",
   "execution_count": null,
   "metadata": {},
   "outputs": [],
   "source": [
    "\n",
    "for key_group in key_groups:\n",
    "    print(key_group)\n",
    "    output = bod.get_file_params(key_group)\n",
    "    print(len(output))\n",
    "    #print(output)\n",
    "\n",
    "\n",
    "    #print(output)\n",
    "    #output2 = bod.get_param_groups(key_group)\n",
    "    #print(output2[1])\n",
    "    #print(output[1])\n",
    "    #print(output[0])\n",
    "    #print(len(output[0]))\n",
    "    #output.to_csv('Tests/' + key_group + '.tsv')\n",
    "    # export the line above to a tsv\n",
    "    # data = data.append(pd.DataFrame(DwellTime: key_group.\n",
    "#print(output['/Users/Covitz/Downloads/RBC_growupCCNP_BIDS/sub-colornest195/ses-1/func/sub-colornest195_ses-1_task-rest_run-02_bold.nii.gz'])\n",
    "#print(output)\n"
   ]
  },
  {
   "cell_type": "code",
   "execution_count": null,
   "metadata": {},
   "outputs": [],
   "source": [
    "key_group = 'datatype-func_run-2_suffix-bold_task-rest'\n",
    "file_params_dict = bod.get_file_params(key_group)\n",
    "print(len(file_params_dict))\n",
    "print(file_params_dict)\n",
    "#print(output[1])\n",
    "#print(output[0])\n",
    "# filenames = list(output.keys())\n",
    "# first_params = output[filenames[0]]\n",
    "# #for path in filenames:\n",
    "#     #print(path + \"\\n\")\n",
    "# #print(first_params)\n",
    "\n",
    "\n",
    "\n",
    "# GET ALL FILENAMES ASSOCIATED WITH A KEY GROUP\n",
    "# USE GLOB TO FIND ALL INSTANCES\n",
    "# IF THEY MATCH AND DICTS MATCH, DO THE REPLACEMENT\n",
    "\n",
    "\n",
    "# for i in range(len(files)):\n",
    "#     files[i] = str(files[i])\n",
    "# files_size = len(files)\n",
    "# print(files_size)\n",
    "# print(files[0])\n",
    "\n",
    "# filenames_size = len(filenames)\n",
    "# print(filenames_size)\n",
    "# print(filenames[0])\n",
    "\n",
    "# param_groups = bod.get_param_groups(key_group)\n",
    "# print(len(param_groups))\n"
   ]
  },
  {
   "cell_type": "code",
   "execution_count": null,
   "metadata": {},
   "outputs": [],
   "source": [
    "# TESTING THE change_filename method!\n",
    "key_group = 'datatype-func_run-2_suffix-bold_task-rest'\n",
    "split_params = {'FlipAngle': 80, 'EffectiveEchoSpacing': 0.000510002, 'PartialFourier': 1, 'TotalReadoutTime': 0.0362102, 'RepetitionTime': 2.5, 'EchoTime': 0.03, 'PhaseEncodingDirection': 'j-', 'DwellTime': 3.1e-06, 'SliceTime000': 1.2, 'SliceTime001': 0, 'SliceTime002': 1.3, 'SliceTime003': 0.1, 'SliceTime004': 1.4, 'SliceTime005': 0.1, 'SliceTime006': 1.4, 'SliceTime007': 0.2, 'SliceTime008': 1.5, 'SliceTime009': 0.3, 'SliceTime010': 1.6, 'SliceTime011': 0.3, 'SliceTime012': 1.6, 'SliceTime013': 0.4, 'SliceTime014': 1.7, 'SliceTime015': 0.5, 'SliceTime016': 1.8, 'SliceTime017': 0.5, 'SliceTime018': 1.8, 'SliceTime019': 0.6, 'SliceTime020': 1.9, 'SliceTime021': 0.7, 'SliceTime022': 2.0, 'SliceTime023': 0.7, 'SliceTime024': 2.0, 'SliceTime025': 0.8, 'SliceTime026': 2.1, 'SliceTime027': 0.9, 'SliceTime028': 2.2, 'SliceTime029': 0.9, 'SliceTime030': 2.2, 'SliceTime031': 1.0, 'SliceTime032': 2.3, 'SliceTime033': 1.0, 'SliceTime034': 2.4, 'SliceTime035': 1.1, 'SliceTime036': 2.4, 'SliceTime037': 1.2}\n",
    "pattern = \"task\"\n",
    "replacement = \"TASK\"\n",
    "ret = bod.change_filenames(key_group, split_params, pattern, replacement)\n",
    "\n",
    "changed_paths = ret\n",
    "\n",
    "print(changed_paths)\n",
    "print(len(changed_paths))\n"
   ]
  },
  {
   "cell_type": "code",
   "execution_count": null,
   "metadata": {},
   "outputs": [],
   "source": []
  },
  {
   "cell_type": "code",
   "execution_count": null,
   "metadata": {},
   "outputs": [],
   "source": [
    "# TESTING SOMOE SHIT WOOOOOOOOOOOOO\n",
    "\n",
    "dict_0 = {'EchoTime': 0.03, 'TotalReadoutTime': 0.0362102, 'RepetitionTime': 2.5, 'DwellTime': 3.1e-06, 'PartialFourier': 1, 'FlipAngle': 80, 'EffectiveEchoSpacing': 0.000510002, 'PhaseEncodingDirection': 'j-', 'SliceTime000': 1.2, 'SliceTime001': 0, 'SliceTime002': 1.3, 'SliceTime003': 0.1, 'SliceTime004': 1.4, 'SliceTime005': 0.1, 'SliceTime006': 1.4, 'SliceTime007': 0.2, 'SliceTime008': 1.5, 'SliceTime009': 0.3, 'SliceTime010': 1.6, 'SliceTime011': 0.3, 'SliceTime012': 1.6, 'SliceTime013': 0.4, 'SliceTime014': 1.7, 'SliceTime015': 0.5, 'SliceTime016': 1.8, 'SliceTime017': 0.5, 'SliceTime018': 1.8, 'SliceTime019': 0.6, 'SliceTime020': 1.9, 'SliceTime021': 0.7, 'SliceTime022': 2.0, 'SliceTime023': 0.7, 'SliceTime024': 2.0, 'SliceTime025': 0.8, 'SliceTime026': 2.1, 'SliceTime027': 0.9, 'SliceTime028': 2.2, 'SliceTime029': 0.9, 'SliceTime030': 2.2, 'SliceTime031': 1.0, 'SliceTime032': 2.3, 'SliceTime033': 1.0, 'SliceTime034': 2.4, 'SliceTime035': 1.1, 'SliceTime036': 2.4, 'SliceTime037': 1.2}\n",
    "dict_1 = {'EchoTime': 0.03, 'TotalReadoutTime': 0.0362102, 'RepetitionTime': 2.5, 'DwellTime': 3.1e-06, 'PartialFourier': 1, 'FlipAngle': 80, 'EffectiveEchoSpacing': 0.000510002, 'PhaseEncodingDirection': 'j-', 'SliceTime000': 1.2, 'SliceTime001': 0, 'SliceTime002': 1.3, 'SliceTime003': 0.1, 'SliceTime004': 1.4, 'SliceTime005': 0.1, 'SliceTime006': 1.4, 'SliceTime007': 0.2, 'SliceTime008': 1.5, 'SliceTime009': 0.3, 'SliceTime010': 1.6, 'SliceTime011': 0.3, 'SliceTime012': 1.6, 'SliceTime013': 0.4, 'SliceTime014': 1.7, 'SliceTime015': 0.5, 'SliceTime016': 1.8, 'SliceTime017': 0.5, 'SliceTime018': 1.8, 'SliceTime019': 0.6, 'SliceTime020': 1.9, 'SliceTime021': 0.7, 'SliceTime022': 2.0, 'SliceTime023': 0.7, 'SliceTime024': 2.0, 'SliceTime025': 0.8, 'SliceTime026': 2.1, 'SliceTime027': 0.9, 'SliceTime028': 2.2, 'SliceTime029': 0.9, 'SliceTime030': 2.2, 'SliceTime031': 1.0, 'SliceTime032': 2.3, 'SliceTime033': 1.0, 'SliceTime034': 2.4, 'SliceTime035': 1.1, 'SliceTime036': 2.4, 'SliceTime037': 1.2}\n",
    "\n",
    "if dict_0 == split_params:\n",
    "    print(\"YAY\")\n",
    "else:\n",
    "    print(\"STUPID\")"
   ]
  },
  {
   "cell_type": "code",
   "execution_count": null,
   "metadata": {},
   "outputs": [],
   "source": []
  }
 ],
 "metadata": {
  "kernelspec": {
   "display_name": "Python 3",
   "language": "python",
   "name": "python3"
  },
  "language_info": {
   "codemirror_mode": {
    "name": "ipython",
    "version": 3
   },
   "file_extension": ".py",
   "mimetype": "text/x-python",
   "name": "python",
   "nbconvert_exporter": "python",
   "pygments_lexer": "ipython3",
   "version": "3.8.3"
  }
 },
 "nbformat": 4,
 "nbformat_minor": 4
}
