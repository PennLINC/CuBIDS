{
 "cells": [
  {
   "cell_type": "markdown",
   "metadata": {},
   "source": [
    "# Check If Field Maps Are Defined For a Dataset\n",
    "\n",
    "This notebook shows how we check if fieldmaps are defined for the data set. There are two approaches:\n",
    "\n",
    "1. Look at the func/dwi/perf folders; do they have fieldmaps?\n",
    "2. Look at the fmap folder; doe the files they point to exist?"
   ]
  },
  {
   "cell_type": "code",
   "execution_count": 1,
   "metadata": {},
   "outputs": [],
   "source": [
    "import glob\n",
    "import re\n",
    "import pathlib"
   ]
  },
  {
   "cell_type": "code",
   "execution_count": 56,
   "metadata": {},
   "outputs": [],
   "source": [
    "# USE THIS BEFORE TESTING!\n",
    "import sys\n",
    "sys.path.append(\"..\")\n",
    "from pathlib import Path\n",
    "import shutil\n",
    "import os\n",
    "\n",
    "from pkg_resources import resource_filename as pkgrf\n",
    "\n",
    "# returns string path to testdata\n",
    "TEST_DATA = pkgrf(\"cubids\", \"testdata\")\n",
    "\n",
    "# should give you the full path\n",
    "tmp_path = Path().resolve()\n",
    "#print(tmp_path)\n",
    "\n",
    "# dest path\n",
    "data_root = tmp_path / \"testdata\"\n",
    "\n",
    "# ensure path does not already exist in cwd\n",
    "if data_root.exists():\n",
    "    shutil.rmtree(str(data_root))\n",
    "\n",
    "# equivalent of command line \"cp\"\n",
    "cwd = shutil.copytree(TEST_DATA, str(data_root))"
   ]
  },
  {
   "cell_type": "code",
   "execution_count": 37,
   "metadata": {},
   "outputs": [
    {
     "data": {
      "text/plain": [
       "[PosixPath('/Users/ttapera/BBL/Projects/CuBIDS/notebooks/testdata/complete/sub-01/ses-phdiff/fmap/sub-01_ses-phdiff_acq-v4_phasediff.json'),\n",
       " PosixPath('/Users/ttapera/BBL/Projects/CuBIDS/notebooks/testdata/complete/sub-01/ses-phdiff/fmap/sub-01_ses-phdiff_acq-v4_magnitude2.json'),\n",
       " PosixPath('/Users/ttapera/BBL/Projects/CuBIDS/notebooks/testdata/complete/sub-01/ses-phdiff/fmap/sub-01_ses-phdiff_dir-PA_epi.json'),\n",
       " PosixPath('/Users/ttapera/BBL/Projects/CuBIDS/notebooks/testdata/complete/sub-01/ses-phdiff/fmap/sub-01_ses-phdiff_acq-v4_magnitude1.json'),\n",
       " PosixPath('/Users/ttapera/BBL/Projects/CuBIDS/notebooks/testdata/complete/sub-02/ses-phdiff/fmap/sub-02_ses-phdiff_acq-v4_phasediff.json'),\n",
       " PosixPath('/Users/ttapera/BBL/Projects/CuBIDS/notebooks/testdata/complete/sub-02/ses-phdiff/fmap/sub-02_ses-phdiff_acq-v4_magnitude2.json'),\n",
       " PosixPath('/Users/ttapera/BBL/Projects/CuBIDS/notebooks/testdata/complete/sub-02/ses-phdiff/fmap/sub-02_ses-phdiff_acq-v4_magnitude1.json'),\n",
       " PosixPath('/Users/ttapera/BBL/Projects/CuBIDS/notebooks/testdata/complete/sub-02/ses-phdiff/fmap/sub-02_ses-phdiff_dir-PA_epi.json'),\n",
       " PosixPath('/Users/ttapera/BBL/Projects/CuBIDS/notebooks/testdata/complete/sub-03/ses-phdiff/fmap/sub-03_ses-phdiff_acq-v4_magnitude2.json'),\n",
       " PosixPath('/Users/ttapera/BBL/Projects/CuBIDS/notebooks/testdata/complete/sub-03/ses-phdiff/fmap/sub-03_ses-phdiff_dir-PA_epi.json')]"
      ]
     },
     "execution_count": 37,
     "metadata": {},
     "output_type": "execute_result"
    }
   ],
   "source": [
    "# get a list of fieldmaps:\n",
    "\n",
    "fmaps = pathlib.Path(data_root).rglob(\"*fmap/*.json\")\n",
    "\n",
    "fmaps = [x for x in fmaps]\n",
    "\n",
    "fmaps[:10]"
   ]
  },
  {
   "cell_type": "code",
   "execution_count": 38,
   "metadata": {},
   "outputs": [],
   "source": [
    "import json\n",
    "\n",
    "def read_intendedfor(path):\n",
    "\n",
    "    with open(str(path), 'r') as infile:\n",
    "        data = json.load(infile)\n",
    "\n",
    "    return data.get('IntendedFor')"
   ]
  },
  {
   "cell_type": "code",
   "execution_count": 39,
   "metadata": {},
   "outputs": [
    {
     "data": {
      "text/plain": [
       "['ses-phdiff/dwi/sub-01_ses-phdiff_acq-HASC55AP_dwi.nii.gz']"
      ]
     },
     "execution_count": 39,
     "metadata": {},
     "output_type": "execute_result"
    }
   ],
   "source": [
    "read_intendedfor(fmaps[0])"
   ]
  },
  {
   "cell_type": "markdown",
   "metadata": {},
   "source": [
    "Map each fmap to its array of intendedfor's:"
   ]
  },
  {
   "cell_type": "code",
   "execution_count": 54,
   "metadata": {},
   "outputs": [],
   "source": [
    "mapping = {}\n",
    "\n",
    "for fm in fmaps:\n",
    "\n",
    "    intfor = read_intendedfor(fm)\n",
    "\n",
    "    mapping[str(fm)] = intfor"
   ]
  },
  {
   "cell_type": "markdown",
   "metadata": {},
   "source": [
    "In the first method, we just list whether or not the fieldmap has files that exist:"
   ]
  },
  {
   "cell_type": "code",
   "execution_count": 55,
   "metadata": {},
   "outputs": [
    {
     "name": "stdout",
     "output_type": "stream",
     "text": [
      "/Users/ttapera/BBL/Projects/CuBIDS/notebooks/testdata/complete/sub-01/ses-phdiff/fmap/sub-01_ses-phdiff_acq-v4_phasediff.json: This fieldmap has a file\n",
      "/Users/ttapera/BBL/Projects/CuBIDS/notebooks/testdata/complete/sub-01/ses-phdiff/fmap/sub-01_ses-phdiff_acq-v4_magnitude2.json: This fieldmap is not intended for any files!\n",
      "/Users/ttapera/BBL/Projects/CuBIDS/notebooks/testdata/complete/sub-01/ses-phdiff/fmap/sub-01_ses-phdiff_dir-PA_epi.json: This fieldmap has a file\n",
      "/Users/ttapera/BBL/Projects/CuBIDS/notebooks/testdata/complete/sub-01/ses-phdiff/fmap/sub-01_ses-phdiff_acq-v4_magnitude1.json: This fieldmap is not intended for any files!\n",
      "/Users/ttapera/BBL/Projects/CuBIDS/notebooks/testdata/complete/sub-02/ses-phdiff/fmap/sub-02_ses-phdiff_acq-v4_phasediff.json: This fieldmap has a file\n",
      "/Users/ttapera/BBL/Projects/CuBIDS/notebooks/testdata/complete/sub-02/ses-phdiff/fmap/sub-02_ses-phdiff_acq-v4_magnitude2.json: This fieldmap is not intended for any files!\n",
      "/Users/ttapera/BBL/Projects/CuBIDS/notebooks/testdata/complete/sub-02/ses-phdiff/fmap/sub-02_ses-phdiff_acq-v4_magnitude1.json: This fieldmap is not intended for any files!\n",
      "/Users/ttapera/BBL/Projects/CuBIDS/notebooks/testdata/complete/sub-02/ses-phdiff/fmap/sub-02_ses-phdiff_dir-PA_epi.json: This fieldmap has a file\n",
      "/Users/ttapera/BBL/Projects/CuBIDS/notebooks/testdata/complete/sub-03/ses-phdiff/fmap/sub-03_ses-phdiff_acq-v4_magnitude2.json: This fieldmap is not intended for any files!\n",
      "/Users/ttapera/BBL/Projects/CuBIDS/notebooks/testdata/complete/sub-03/ses-phdiff/fmap/sub-03_ses-phdiff_dir-PA_epi.json: This fieldmap has a file\n",
      "/Users/ttapera/BBL/Projects/CuBIDS/notebooks/testdata/complete/sub-03/ses-phdiff/fmap/sub-03_ses-phdiff_acq-v4_magnitude1.json: This fieldmap is not intended for any files!\n",
      "/Users/ttapera/BBL/Projects/CuBIDS/notebooks/testdata/complete/sub-03/ses-phdiff/fmap/sub-03_ses-phdiff_acq-v4_phasediff.json: This fieldmap has a file\n"
     ]
    }
   ],
   "source": [
    "all_files = [str(x) for x in pathlib.Path(data_root).rglob(\"*.nii*\")]\n",
    "\n",
    "for k, v in mapping.items():\n",
    "\n",
    "    if not v:\n",
    "\n",
    "        print(\"{}: This fieldmap is not intended for any files!\".format(k))\n",
    "\n",
    "        continue\n",
    "\n",
    "    for fi in v:\n",
    "\n",
    "        if any([fi in x for x in all_files]):\n",
    "\n",
    "            print(\"{}: This fieldmap has a file\".format(k))\n",
    "\n",
    "        else:\n",
    "\n",
    "            print(\"{}: The file this fieldmap is intended for doesn't exist\".format(k))"
   ]
  },
  {
   "cell_type": "markdown",
   "metadata": {},
   "source": [
    "In the second check, we check that all files in `func`, `dwi` and `perf` have at least one fieldmap"
   ]
  },
  {
   "cell_type": "code",
   "execution_count": null,
   "metadata": {},
   "outputs": [],
   "source": []
  },
  {
   "cell_type": "markdown",
   "metadata": {},
   "source": [
    "TODO: `assign_fieldmaps()` function"
   ]
  },
  {
   "cell_type": "code",
   "execution_count": null,
   "metadata": {},
   "outputs": [],
   "source": []
  }
 ],
 "metadata": {
  "kernelspec": {
   "display_name": "Python 3",
   "language": "python",
   "name": "python3"
  },
  "language_info": {
   "codemirror_mode": {
    "name": "ipython",
    "version": 3
   },
   "file_extension": ".py",
   "mimetype": "text/x-python",
   "name": "python",
   "nbconvert_exporter": "python",
   "pygments_lexer": "ipython3",
   "version": "3.7.7"
  }
 },
 "nbformat": 4,
 "nbformat_minor": 4
}
